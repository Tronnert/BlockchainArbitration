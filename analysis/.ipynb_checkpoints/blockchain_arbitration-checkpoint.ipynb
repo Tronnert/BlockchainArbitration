{
 "cells": [
  {
   "cell_type": "code",
   "execution_count": 1,
   "id": "b9c571d2",
   "metadata": {},
   "outputs": [],
   "source": [
    "from pyspark.sql import SparkSession\n",
    "from pyspark.sql.types import ArrayType, LongType, StructType, StructField, StringType, DoubleType\n",
    "import pyspark.sql.functions as f\n",
    "from pyspark.sql import Window\n",
    "import findspark"
   ]
  },
  {
   "cell_type": "code",
   "execution_count": 25,
   "id": "b50cde02",
   "metadata": {},
   "outputs": [],
   "source": [
    "findspark.init()\n",
    "spark = SparkSession.builder.appName('Crypto').getOrCreate()\n",
    "SCHEMA = StructType([\n",
    "    StructField(\"dt\", LongType(), False),\n",
    "    StructField(\"base\", StringType(), False),\n",
    "    StructField(\"quote\", StringType(), False),\n",
    "    StructField(\"exchange\", StringType(), False),\n",
    "    StructField(\"bidPrice\", DoubleType(), False),\n",
    "    StructField(\"bidQty\", DoubleType(), False),\n",
    "    StructField(\"askPrice\", DoubleType(), False),\n",
    "    StructField(\"askQty\", DoubleType(), False),\n",
    "    \n",
    "])\n",
    "df = spark.read.options(delimiter='\\t', ).csv(\"../logs/logs.tsv\", header=False, schema=SCHEMA)"
   ]
  },
  {
   "cell_type": "code",
   "execution_count": 26,
   "id": "9c1512e3",
   "metadata": {},
   "outputs": [],
   "source": [
    "w = Window.partitionBy(['dt', \"base\", \"quote\"])\n",
    "bids = df.withColumn('maxBid', f.max('bidPrice').over(w))\\\n",
    "    .where(f.col('bidPrice') == f.col('maxBid'))\\\n",
    "    .drop('maxBid').withColumnRenamed(\"exchange\", \"bidExchange\") \\\n",
    "    .drop(\"askPrice\").drop(\"askQty\")\n",
    "asks = df.withColumn('minAsk', f.min('askPrice').over(w))\\\n",
    "    .where(f.col('askPrice') == f.col('minAsk'))\\\n",
    "    .drop('minAsk').withColumnRenamed(\"exchange\", \"askExchange\") \\\n",
    "    .drop(\"bidPrice\").drop(\"bidQty\")\n",
    "test = bids.join(asks, on=[\"dt\", \"base\", \"quote\"]) \\\n",
    "    .withColumn(\"Qty\", f.least(\"bidQty\", \"askQty\")) \\\n",
    "    .withColumn(\"revenue\", (f.col(\"bidPrice\") - f.col(\"askPrice\")) * f.col(\"Qty\"))\n",
    "test = test[test[\"revenue\"] > 0]"
   ]
  },
  {
   "cell_type": "code",
   "execution_count": 27,
   "id": "b4a5b9ba",
   "metadata": {},
   "outputs": [],
   "source": [
    "test3 = test.groupBy([\"base\", \"quote\", \"bidExchange\", \"askExchange\"]) \\\n",
    "    .agg(f.collect_list(f.struct(\"dt\", \"bidPrice\", \"askPrice\", \"Qty\")).alias(\"data\"))"
   ]
  },
  {
   "cell_type": "code",
   "execution_count": 28,
   "id": "2945ae4d",
   "metadata": {},
   "outputs": [],
   "source": [
    "def get_values(row):\n",
    "    return row[\"dt\"], row[\"bidPrice\"], row[\"askPrice\"], row[\"Qty\"]\n",
    "\n",
    "\n",
    "def find(rows):\n",
    "    if len(rows) == 1:\n",
    "        return [10**8]\n",
    "    arbitrages = []\n",
    "    rows.sort(key=lambda x: x[\"dt\"])\n",
    "    old_dt = rows[0][\"dt\"]\n",
    "    start = old_dt\n",
    "    #changes = [get_values(rows[0])]\n",
    "    for row in rows[1:]:\n",
    "        new_dt, bid, ask, qty = get_values(row)\n",
    "        if new_dt - old_dt > 10**8:\n",
    "            arbitrages.append(old_dt - start + 10**8)#, changes))\n",
    "            start = new_dt\n",
    "            #changes = [(start, bid, ask, qty)]\n",
    "        #if changes[-1][1:] != (bid, ask, qty):\n",
    "        #    changes.append((new_dt, bid, ask, qty))\n",
    "        old_dt = new_dt\n",
    "#     if rows[-1][\"dt\"] - rows[-2][\"dt\"] > 10**8:\n",
    "#         arbitrages.append((row[\"dt\"], row[\"dt\"] + 10**8, [get_values(row)]))\n",
    "    if rows[-1][\"dt\"] - rows[-2][\"dt\"] > 10**8:\n",
    "        arbitrages.append(10**8)\n",
    "    return arbitrages\n",
    "\n",
    "func = f.udf(find, ArrayType(LongType()))"
   ]
  },
  {
   "cell_type": "code",
   "execution_count": 29,
   "id": "26f5dfa9",
   "metadata": {},
   "outputs": [],
   "source": [
    "test3 = test3.withColumn(\"arbitrations\", func(\"data\"))"
   ]
  },
  {
   "cell_type": "code",
   "execution_count": 30,
   "id": "eb49e9b2",
   "metadata": {},
   "outputs": [],
   "source": [
    "def calc_avg(x):\n",
    "    return sum(x) / len(x)\n",
    "    \n",
    "\n",
    "func2 = f.udf(calc_avg, DoubleType())\n",
    "test3 = test3.withColumn(\"avg_arb\", func2(\"arbitrations\"))"
   ]
  },
  {
   "cell_type": "code",
   "execution_count": null,
   "id": "c457612b",
   "metadata": {},
   "outputs": [],
   "source": [
    "test3.select(f.avg(\"avg_arb\")).show()"
   ]
  },
  {
   "cell_type": "code",
   "execution_count": 24,
   "id": "a304c86c",
   "metadata": {},
   "outputs": [
    {
     "name": "stdout",
     "output_type": "stream",
     "text": [
      "+-----+-----+-----------+-----------+--------------------+--------------------+--------------------+\n",
      "| base|quote|bidExchange|askExchange|                data|        arbitrations|             avg_arb|\n",
      "+-----+-----+-----------+-----------+--------------------+--------------------+--------------------+\n",
      "|  BTC|  EUR|     kraken|    binance|[{167143301299901...|[100000000, 10000...|1.0081967213114753E8|\n",
      "|  PSG| USDT|      huobi|    binance|[{167143301319955...|[100000000, 10000...| 1.008695652173913E8|\n",
      "|  XCN| USDT|   poloniex|       gate|[{167143301382439...|[100000000, 10000...|1.0087719298245615E8|\n",
      "|MATIC| USDT|      huobi|     kraken|[{167143301583736...|[100000000, 10000...| 1.037037037037037E8|\n",
      "| WBTC|  BTC|     kraken|   poloniex|[{167143301342207...|[100000000, 10000...|1.0084745762711865E8|\n",
      "| LUNC| USDT|    binance|       gate|[{167143301392443...|[100000000, 10000...|1.0087719298245615E8|\n",
      "|  ETH|  BTC|    binance|     kraken|[{167143301482780...|[100000000, 10000...|1.0096153846153846E8|\n",
      "|  ETC| USDT|      huobi|   poloniex|[{167143301169213...|[100000000, 10000...|1.0080645161290322E8|\n",
      "|  TON| USDT|   poloniex|      huobi|[{167143301319955...|[100000000, 10000...|1.0084033613445379E8|\n",
      "|  SOL|  BTC|    binance|     kraken|[{167143301319955...|[100000000, 10000...|1.0084033613445379E8|\n",
      "| XCAD| USDT|       gate|   poloniex|[{167143301412585...|[100000000, 10000...|1.0087719298245615E8|\n",
      "| SHIB| USDT|    binance|     kraken|[{167143301342207...|[100000000, 10000...|1.0084033613445379E8|\n",
      "| ETHW|  ETH|     kraken|   poloniex|[{167143301289858...|[100000000, 10000...|1.0081967213114753E8|\n",
      "| MESA| USDT|       gate|      huobi|[{167143301740689...|[100000000, 10000...|1.0116279069767442E8|\n",
      "|  SOL| USDT|   poloniex|      huobi|[{167143301289858...|[100000000, 10000...| 1.008130081300813E8|\n",
      "|  BNB| USDT|    binance|       gate|[{167143301392443...|[100000000, 10000...|1.0294117647058824E8|\n",
      "|  XMR| USDT|     kraken|   poloniex|[{167143301279800...|[100000000, 10000...| 1.020408163265306E8|\n",
      "| WBTC| USDT|   poloniex|      huobi|[{167143301342207...|[100000000, 10000...|1.0084033613445379E8|\n",
      "| AVAX| USDT|    binance|      huobi|[{167143301372413...|[100000000, 10000...|1.0084745762711865E8|\n",
      "|  BTC|  GBP|     kraken|    binance|[{167143301229585...|[100000000, 10000...| 1.007751937984496E8|\n",
      "+-----+-----+-----------+-----------+--------------------+--------------------+--------------------+\n",
      "only showing top 20 rows\n",
      "\n"
     ]
    }
   ],
   "source": [
    "test3[test3[\"avg_arb\"] != 10**8].show()"
   ]
  },
  {
   "cell_type": "code",
   "execution_count": null,
   "id": "385474a8",
   "metadata": {},
   "outputs": [],
   "source": []
  }
 ],
 "metadata": {
  "kernelspec": {
   "display_name": "Python 3 (ipykernel)",
   "language": "python",
   "name": "python3"
  },
  "language_info": {
   "codemirror_mode": {
    "name": "ipython",
    "version": 3
   },
   "file_extension": ".py",
   "mimetype": "text/x-python",
   "name": "python",
   "nbconvert_exporter": "python",
   "pygments_lexer": "ipython3",
   "version": "3.9.9"
  }
 },
 "nbformat": 4,
 "nbformat_minor": 5
}
