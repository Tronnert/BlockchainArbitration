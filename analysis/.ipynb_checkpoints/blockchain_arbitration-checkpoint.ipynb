{
 "cells": [
  {
   "cell_type": "code",
   "execution_count": 2,
   "id": "b9c571d2",
   "metadata": {},
   "outputs": [],
   "source": [
    "from pyspark.sql import SparkSession\n",
    "from pyspark.sql.types import ArrayType, LongType, StructType, StructField, StringType, DoubleType, BooleanType, IntegerType\n",
    "import pyspark.sql.functions as f\n",
    "from pyspark.sql import Window\n",
    "import findspark\n",
    "\n",
    "findspark.init()\n",
    "spark = SparkSession.builder.appName('Crypto').getOrCreate()\n",
    "SCHEMA = StructType([\n",
    "    StructField(\"dt\", LongType(), False),\n",
    "    StructField(\"base\", StringType(), False),\n",
    "    StructField(\"quote\", StringType(), False),\n",
    "    StructField(\"exchange\", StringType(), False),\n",
    "    StructField(\"bidPrice\", DoubleType(), False),\n",
    "    StructField(\"bidQty\", DoubleType(), False),\n",
    "    StructField(\"askPrice\", DoubleType(), False),\n",
    "    StructField(\"askQty\", DoubleType(), False),\n",
    "    \n",
    "])\n",
    "df = spark.read.options(delimiter='\\t', ).csv(\"../logs/test_dict3.tsv\", header=False, schema=SCHEMA)"
   ]
  },
  {
   "cell_type": "markdown",
   "id": "ace66a77",
   "metadata": {},
   "source": [
    "### средняя разница времени записи"
   ]
  },
  {
   "cell_type": "code",
   "execution_count": 4,
   "id": "b7c245b0",
   "metadata": {},
   "outputs": [
    {
     "name": "stdout",
     "output_type": "stream",
     "text": [
      "102478454.52961673\n",
      "100730500.0\n",
      "200478000\n"
     ]
    }
   ],
   "source": [
    "dts = sorted(set([i[\"dt\"] for i in df.take(df.count())]))\n",
    "dif = [dts[i] - dts[i-1] for i in range(1, len(dts))]\n",
    "from statistics import median\n",
    "print(sum(dif) / len(dif))\n",
    "print(median(dif))\n",
    "print(max(dif))"
   ]
  },
  {
   "cell_type": "code",
   "execution_count": null,
   "id": "21323285",
   "metadata": {},
   "outputs": [],
   "source": [
    "w = Window.partitionBy(['dt', \"base\", \"quote\"])\n",
    "\n",
    "bids = df.withColumn('maxBid', f.max('bidPrice').over(w))\\\n",
    "    .where(f.col('bidPrice') == f.col('maxBid'))\\\n",
    "    .drop('maxBid').withColumnRenamed(\"exchange\", \"bidExchange\") \\\n",
    "    .drop(\"askPrice\").drop(\"askQty\")\n",
    "asks = df.withColumn('minAsk', f.min('askPrice').over(w))\\\n",
    "    .where(f.col('askPrice') == f.col('minAsk'))\\\n",
    "    .drop('minAsk').withColumnRenamed(\"exchange\", \"askExchange\") \\\n",
    "    .drop(\"bidPrice\").drop(\"bidQty\")\n",
    "test = bids.join(asks, on=[\"dt\", \"base\", \"quote\"]) \\\n",
    "test = test.withColumn(\"Qty\", f.least(\"bidQty\", \"askQty\")) \\\n",
    "    .withColumn(\"revenue\", (f.col(\"bidPrice\") - f.col(\"askPrice\")) * f.col(\"Qty\"))\n",
    "\n",
    "test3 = test.groupBy([\"base\", \"quote\", \"bidExchange\", \"askExchange\"]) \\\n",
    "    .agg(f.collect_list(f.struct(\"dt\", \"bidPrice\", \"askPrice\", \"Qty\", \"revenue\")).alias(\"data\"))"
   ]
  },
  {
   "cell_type": "code",
   "execution_count": 121,
   "id": "2945ae4d",
   "metadata": {},
   "outputs": [],
   "source": [
    "def calc_avg(x):\n",
    "    return sum(x) / len(x)\n",
    "\n",
    "\n",
    "def calc_len(x):\n",
    "    return len(x) >= 1\n",
    "\n",
    "\n",
    "def test(x):\n",
    "    return len(x)\n",
    "\n",
    "\n",
    "def find(rows):\n",
    "    N = 10 ** 8\n",
    "    if len(rows) == 1:\n",
    "        return [N]\n",
    "    arbitrages = []\n",
    "    rows.sort(key=lambda x: x[\"dt\"])\n",
    "    old = rows[0]\n",
    "    dur = 0\n",
    "    for row in rows[1:]:\n",
    "        if row[\"revenue\"] > 0 and old[\"revenue\"] > 0:\n",
    "            dur += row[\"dt\"] - old[\"dt\"]\n",
    "        elif row[\"revenue\"] <= 0 and old[\"revenue\"] > 0:\n",
    "            arbitrages.append(dur + N)\n",
    "            dur = 0\n",
    "        old = row\n",
    "    if row[\"revenue\"] > 0:\n",
    "        arbitrages.append(dur + N)\n",
    "    return arbitrages\n",
    "\n",
    "\n",
    "func = f.udf(find, ArrayType(LongType()))\n",
    "func2 = f.udf(calc_avg, DoubleType())\n",
    "func3 = f.udf(calc_len, BooleanType())\n",
    "func4 = f.udf(test, IntegerType())"
   ]
  },
  {
   "cell_type": "code",
   "execution_count": 122,
   "id": "26f5dfa9",
   "metadata": {},
   "outputs": [],
   "source": [
    "test3 = test3.withColumn(\"arbitrations\", func(\"data\")) \\\n",
    "    .withColumn(\"is_not_empty\", func3(\"arbitrations\")) \\\n",
    "    .withColumn(\"len\", func4(\"arbitrations\"))\n",
    "test3 = test3[test3[\"is_not_empty\"] == True].withColumn(\"avg_arb\", func2(\"arbitrations\"))"
   ]
  },
  {
   "cell_type": "markdown",
   "id": "7c53078c",
   "metadata": {},
   "source": [
    "### Метрики"
   ]
  },
  {
   "cell_type": "code",
   "execution_count": 123,
   "id": "3397b067",
   "metadata": {},
   "outputs": [
    {
     "name": "stdout",
     "output_type": "stream",
     "text": [
      "+-----+-----+-----------+-----------+--------------------+--------------+------------+---+--------------+\n",
      "| base|quote|bidExchange|askExchange|                data|  arbitrations|is_not_empty|len|       avg_arb|\n",
      "+-----+-----+-----------+-----------+--------------------+--------------+------------+---+--------------+\n",
      "|  ASK| USDT|       gate|       gate|[{167154826696461...|   [100000000]|        true|  1|         1.0E8|\n",
      "| BABY| USDT|       gate|      huobi|[{167154814091871...|[126246133700]|        true|  1|1.262461337E11|\n",
      "|  ETC| USDT|      huobi|      huobi|[{167154808893843...|   [100000000]|        true|  1|         1.0E8|\n",
      "|  FTM|  BTC|   poloniex|    binance|[{167154809237532...|[174689286300]|        true|  1|1.746892863E11|\n",
      "|  GMT| USDT|   poloniex|    binance|[{167154808883819...|[178226418000]|        true|  1| 1.78226418E11|\n",
      "|  HFT| USDT|      huobi|    binance|[{167154815452874...|   [100000000]|        true|  1|         1.0E8|\n",
      "|LAZIO| USDT|    binance|   poloniex|[{167154809559800...|  [3320716400]|        true|  1|   3.3207164E9|\n",
      "| MCRT| USDT|       gate|      huobi|[{167154810895656...|   [200730400]|        true|  1|    2.007304E8|\n",
      "| MINA| USDT|      huobi|    binance|[{167154816513020...|   [100000000]|        true|  1|         1.0E8|\n",
      "|   OP| USDT|   poloniex|    binance|[{167154808883819...|[164507558400]|        true|  1|1.645075584E11|\n",
      "|   OP| USDT|   poloniex|      huobi|[{167154808974527...|[177722260500]|        true|  1|1.777222605E11|\n",
      "|  PHB| USDT|    binance|      huobi|[{167154814212748...|   [100000000]|        true|  1|         1.0E8|\n",
      "|XDEFI| USDT|       gate|      huobi|[{167154812298195...|[144183390900]|        true|  1|1.441833909E11|\n",
      "| XMON| USDT|       gate|   poloniex|[{167154809167021...|  [1006576500]|        true|  1|   1.0065765E9|\n",
      "|  APX| USDT|   poloniex|       gate|[{167154815462947...|[112636602900]|        true|  1|1.126366029E11|\n",
      "|  BAT| USDT|   poloniex|       gate|[{167154809388580...|[128821252400]|        true|  1|1.288212524E11|\n",
      "|  C98|  USD|     kraken|       gate|[{167154809167021...|[175394400400]|        true|  1|1.753944004E11|\n",
      "| ETHF| USDT|   poloniex|      huobi|[{167154809378507...|[173380267500]|        true|  1|1.733802675E11|\n",
      "|  FTT| USDT|   poloniex|      huobi|[{167154808934235...|[177722260500]|        true|  1|1.777222605E11|\n",
      "|  GMT| USDT|   poloniex|      huobi|[{167154814667975...|  [6633476900]|        true|  1|   6.6334769E9|\n",
      "+-----+-----+-----------+-----------+--------------------+--------------+------------+---+--------------+\n",
      "only showing top 20 rows\n",
      "\n"
     ]
    }
   ],
   "source": [
    "test3.sort(\"len\", ascending=False).show()"
   ]
  },
  {
   "cell_type": "code",
   "execution_count": 104,
   "id": "b94eec06",
   "metadata": {},
   "outputs": [
    {
     "name": "stdout",
     "output_type": "stream",
     "text": [
      "+--------------------+\n",
      "|        avg(avg_arb)|\n",
      "+--------------------+\n",
      "|5.369866041818181...|\n",
      "+--------------------+\n",
      "\n"
     ]
    }
   ],
   "source": [
    "test3.select(f.avg(\"avg_arb\")).show()"
   ]
  },
  {
   "cell_type": "code",
   "execution_count": 139,
   "id": "4982aac0",
   "metadata": {},
   "outputs": [],
   "source": [
    "def get_id(x):\n",
    "    d = {\"binance\": 1.0, \"poloniex\": 2.0, \"gate\": 3.0, \"huobi\": 4.0, \"kraken\": 5.0}\n",
    "    return d[x]\n",
    "\n",
    "func_id = f.udf(get_id, DoubleType())\n",
    "df = df.withColumn(\"idExchange\", func_id(\"exchange\"))"
   ]
  },
  {
   "cell_type": "code",
   "execution_count": 140,
   "id": "f4c3a83d",
   "metadata": {},
   "outputs": [
    {
     "name": "stdout",
     "output_type": "stream",
     "text": [
      "+-------------------+--------+-----+--------+--------+-------------+---------+-------------+----------+\n",
      "|                 dt|    base|quote|exchange|bidPrice|       bidQty| askPrice|       askQty|idExchange|\n",
      "+-------------------+--------+-----+--------+--------+-------------+---------+-------------+----------+\n",
      "|1671548087626431900|    LINK| USDT|poloniex|  6.0428|      1.36753|   6.0713|       2.8205|       2.0|\n",
      "|1671548087626431900|     ETH| USDT|poloniex| 1206.37|    62.021761|  1207.33|     5.617459|       2.0|\n",
      "|1671548087727163100|    LINK| USDT|poloniex|  6.0428|      1.36753|   6.0713|       2.8205|       2.0|\n",
      "|1671548087727163100|     ETH| USDT|poloniex| 1206.37|    62.021761|  1207.33|     5.617459|       2.0|\n",
      "|1671548087727163100|     TRX| USDT|poloniex| 0.05436|       58.867|  0.05437|   451461.546|       2.0|\n",
      "|1671548087727163100|     SUN| USDT|poloniex|0.005276|   1735755.43|0.0052934|    724549.91|       2.0|\n",
      "|1671548087727163100|POLYDOGE| USDT|poloniex|  3.1E-9|7.652831379E9|   3.4E-9|3.276539973E9|       2.0|\n",
      "|1671548087727163100|     SOL|  BTC|poloniex| 7.29E-4|        213.0|  7.34E-4|        13.79|       2.0|\n",
      "|1671548087727163100|     SOL| USDC|poloniex|    12.2|    19.237849|    15.04|  1211.135077|       2.0|\n",
      "|1671548087727163100|     BNX| USDT|poloniex|   47.02|     0.091449|    75.25|     0.022924|       2.0|\n",
      "|1671548087727163100|     ADA|  BTC|poloniex|1.528E-5|       5110.0| 1.542E-5|      16808.0|       2.0|\n",
      "|1671548087727163100|     CTC| USDT|poloniex|  0.4091|       24.395|   1.4854|      74.6346|       2.0|\n",
      "|1671548087727163100|     SOS| USDT|poloniex|  2.4E-7| 3.67239838E8| 3.564E-7|  1.0921867E7|       2.0|\n",
      "|1671548087727163100|  SHPING| USDT|poloniex|  0.0032|       343.75|  0.00549|      921.354|       2.0|\n",
      "|1671548087727163100|   TITAN| USDT|poloniex|  0.0708|        0.093|   0.0736|      60.6843|       2.0|\n",
      "|1671548087727163100|  ALPINE| USDT|poloniex|   1.624|      1.61959|    2.497|      1.44653|       2.0|\n",
      "|1671548087727163100|    JPEG| USDT|poloniex|3.884E-4|      12303.8| 4.389E-4|       3385.5|       2.0|\n",
      "|1671548087727163100|     APE| USDT|poloniex|   3.377|     56.25249|    3.545|      53.9749|       2.0|\n",
      "|1671548087727163100|     STG| USDT|poloniex|  0.3653|    1029.1378|   0.3865|     458.8192|       2.0|\n",
      "|1671548087727163100|  ONSTON| USDT|poloniex|   0.011|     2636.363|   0.0113|     4449.868|       2.0|\n",
      "+-------------------+--------+-----+--------+--------+-------------+---------+-------------+----------+\n",
      "only showing top 20 rows\n",
      "\n"
     ]
    }
   ],
   "source": [
    "df.show(20)"
   ]
  },
  {
   "cell_type": "code",
   "execution_count": null,
   "id": "5aef58c9",
   "metadata": {},
   "outputs": [],
   "source": []
  }
 ],
 "metadata": {
  "kernelspec": {
   "display_name": "Python 3 (ipykernel)",
   "language": "python",
   "name": "python3"
  },
  "language_info": {
   "codemirror_mode": {
    "name": "ipython",
    "version": 3
   },
   "file_extension": ".py",
   "mimetype": "text/x-python",
   "name": "python",
   "nbconvert_exporter": "python",
   "pygments_lexer": "ipython3",
   "version": "3.9.9"
  }
 },
 "nbformat": 4,
 "nbformat_minor": 5
}
