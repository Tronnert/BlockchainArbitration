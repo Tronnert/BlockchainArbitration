{
 "cells": [
  {
   "cell_type": "code",
   "execution_count": 1,
   "id": "b9c571d2",
   "metadata": {},
   "outputs": [],
   "source": [
    "from pyspark.sql import SparkSession\n",
    "from pyspark.sql.types import ArrayType, LongType, StructType, StructField, StringType, DoubleType, BooleanType\n",
    "import pyspark.sql.functions as f\n",
    "from pyspark.sql import Window\n",
    "import findspark"
   ]
  },
  {
   "cell_type": "code",
   "execution_count": 2,
   "id": "b50cde02",
   "metadata": {},
   "outputs": [],
   "source": [
    "findspark.init()\n",
    "spark = SparkSession.builder.appName('Crypto').getOrCreate()\n",
    "SCHEMA = StructType([\n",
    "    StructField(\"dt\", DoubleType(), False),\n",
    "    StructField(\"base\", StringType(), False),\n",
    "    StructField(\"quote\", StringType(), False),\n",
    "    StructField(\"exchange\", StringType(), False),\n",
    "    StructField(\"bidPrice\", DoubleType(), False),\n",
    "    StructField(\"bidQty\", DoubleType(), False),\n",
    "    StructField(\"askPrice\", DoubleType(), False),\n",
    "    StructField(\"askQty\", DoubleType(), False),\n",
    "    \n",
    "])\n",
    "df = spark.read.options(delimiter='\\t', ).csv(\"../logs/logs9.tsv\", header=False, schema=SCHEMA)"
   ]
  },
  {
   "cell_type": "code",
   "execution_count": 3,
   "id": "9c1512e3",
   "metadata": {},
   "outputs": [],
   "source": [
    "w = Window.partitionBy(['dt', \"base\", \"quote\"])\n",
    "bids = df.withColumn('maxBid', f.max('bidPrice').over(w))\\\n",
    "    .where(f.col('bidPrice') == f.col('maxBid'))\\\n",
    "    .drop('maxBid').withColumnRenamed(\"exchange\", \"bidExchange\") \\\n",
    "    .drop(\"askPrice\").drop(\"askQty\")\n",
    "asks = df.withColumn('minAsk', f.min('askPrice').over(w))\\\n",
    "    .where(f.col('askPrice') == f.col('minAsk'))\\\n",
    "    .drop('minAsk').withColumnRenamed(\"exchange\", \"askExchange\") \\\n",
    "    .drop(\"bidPrice\").drop(\"bidQty\")\n",
    "test = bids.join(asks, on=[\"dt\", \"base\", \"quote\"]) \\\n",
    "    .withColumn(\"Qty\", f.least(\"bidQty\", \"askQty\")) \\\n",
    "    .withColumn(\"revenue\", (f.col(\"bidPrice\") - f.col(\"askPrice\")) * f.col(\"Qty\"))\n",
    "test = test[test[\"revenue\"] > 0]"
   ]
  },
  {
   "cell_type": "code",
   "execution_count": 4,
   "id": "b4a5b9ba",
   "metadata": {},
   "outputs": [],
   "source": [
    "test3 = test.groupBy([\"base\", \"quote\", \"bidExchange\", \"askExchange\"]) \\\n",
    "    .agg(f.collect_list(f.struct(\"dt\", \"bidPrice\", \"askPrice\", \"Qty\")).alias(\"data\"))"
   ]
  },
  {
   "cell_type": "code",
   "execution_count": 5,
   "id": "2945ae4d",
   "metadata": {},
   "outputs": [],
   "source": [
    "def calc_avg(x):\n",
    "    return sum(x) / len(x)\n",
    "\n",
    "\n",
    "def get_values(row):\n",
    "    return row[\"dt\"], row[\"bidPrice\"], row[\"askPrice\"], row[\"Qty\"]\n",
    "\n",
    "\n",
    "def find(rows):\n",
    "    N = 0.1\n",
    "    if len(rows) == 1:\n",
    "        return [N]\n",
    "    arbitrages = []\n",
    "    rows.sort(key=lambda x: x[\"dt\"])\n",
    "    old_dt = rows[0][\"dt\"]\n",
    "    start = old_dt\n",
    "    for row in rows[1:]:\n",
    "        new_dt = row[\"dt\"]\n",
    "        if new_dt - old_dt > N:\n",
    "            arbitrages.append(old_dt - start + N)\n",
    "            start = new_dt\n",
    "        old_dt = new_dt\n",
    "    arbitrages.append(old_dt - start + N)\n",
    "    return arbitrages\n",
    "\n",
    "\n",
    "func = f.udf(find, ArrayType(DoubleType()))\n",
    "func2 = f.udf(calc_avg, DoubleType())"
   ]
  },
  {
   "cell_type": "code",
   "execution_count": 6,
   "id": "26f5dfa9",
   "metadata": {},
   "outputs": [],
   "source": [
    "test3 = test3.withColumn(\"arbitrations\", func(\"data\"))"
   ]
  },
  {
   "cell_type": "code",
   "execution_count": 7,
   "id": "eb49e9b2",
   "metadata": {},
   "outputs": [],
   "source": [
    "test3 = test3.withColumn(\"avg_arb\", func2(\"arbitrations\"))"
   ]
  },
  {
   "cell_type": "code",
   "execution_count": 8,
   "id": "6ddbd44c",
   "metadata": {},
   "outputs": [
    {
     "name": "stdout",
     "output_type": "stream",
     "text": [
      "+----+-----+-----------+-----------+--------------------+--------------------+-------------------+\n",
      "|base|quote|bidExchange|askExchange|                data|        arbitrations|            avg_arb|\n",
      "+----+-----+-----------+-----------+--------------------+--------------------+-------------------+\n",
      "|FUSE| USDT|       gate|      huobi|[{1.6714678636565...|[0.1, 0.1, 0.1, 0...|0.10000000000000099|\n",
      "|PROM| USDT|      huobi|       gate|[{1.6714679114911...|[0.1, 0.1, 0.1, 0...|0.10000000000000099|\n",
      "| BTC| USDT|     kraken|      huobi|[{1.6714678638574...|[0.1, 0.1, 0.1, 0...|0.10000000000000098|\n",
      "| TRX| USDT|   poloniex|      huobi|[{1.6714678642603...|[0.1, 0.1, 0.1, 0...|0.10000000000000092|\n",
      "| QNT| USDT|    binance|       gate|[{1.6714678641596...|[0.1, 0.1, 0.1, 0...| 0.1000000000000009|\n",
      "| UNI|  USD|     kraken|       gate|[{1.6714678639582...|[0.1, 0.1, 0.1, 0...|0.10000000000000088|\n",
      "|LUNC| USDT|    binance|       gate|[{1.6714678636565...|[0.1, 0.1, 0.1, 0...|0.10000000000000085|\n",
      "| AXS| USDT|      huobi|   poloniex|[{1.6714678637567...|[0.1, 0.1, 0.1, 0...|0.10000000000000081|\n",
      "| CHZ| USDT|      huobi|   poloniex|[{1.6714678647640...|[0.1, 0.1, 0.1, 0...| 0.1000000000000008|\n",
      "|LINK| USDT|   poloniex|    binance|[{1.6714678147991...|[0.1, 0.1, 0.1, 0...| 0.1000000000000008|\n",
      "|AVAX| USDT|     kraken|       gate|[{1.6714678725181...|[0.1, 0.1, 0.1, 0...|0.10000000000000078|\n",
      "| FIL| USDT|   poloniex|      huobi|[{1.6714678637567...|[0.1, 0.1, 0.1, 0...|0.10000000000000078|\n",
      "| ETH|  BTC|    binance|     kraken|[{1.6714678212116...|[0.1, 0.1, 0.1, 0...|0.10000000000000077|\n",
      "| FTM| USDT|    binance|       gate|[{1.6714678656693...|[0.1, 0.1, 0.1, 0...|0.10000000000000074|\n",
      "|GALA| USDT|    binance|       gate|[{1.6714678638574...|[0.1, 0.1, 0.1, 0...|0.10000000000000073|\n",
      "| TRX| USDT|   poloniex|       gate|[{1.6714678729210...|[0.1, 0.1, 0.1, 0...|0.10000000000000071|\n",
      "| ETH|  EUR|    binance|     kraken|[{1.6714678168813...|[0.1, 0.1, 0.1, 0...|0.10000000000000071|\n",
      "| BTC|  EUR|    binance|     kraken|[{1.6714678156727...|[0.1, 0.1, 0.1, 0...|0.10000000000000069|\n",
      "| UNI| USDT|    binance|       gate|[{1.6714678641596...|[0.1, 0.1, 0.1, 0...|0.10000000000000067|\n",
      "| SOL| USDT|     kraken|      huobi|[{1.6714678639582...|[0.1, 0.1, 0.1, 0...|0.10000000000000064|\n",
      "+----+-----+-----------+-----------+--------------------+--------------------+-------------------+\n",
      "only showing top 20 rows\n",
      "\n"
     ]
    }
   ],
   "source": [
    "test3.sort(\"avg_arb\", ascending=False).show()"
   ]
  },
  {
   "cell_type": "code",
   "execution_count": 78,
   "id": "ca5f7b4c",
   "metadata": {},
   "outputs": [
    {
     "name": "stdout",
     "output_type": "stream",
     "text": [
      "+-------------------+\n",
      "|       avg(avg_arb)|\n",
      "+-------------------+\n",
      "|0.10000000000000006|\n",
      "+-------------------+\n",
      "\n"
     ]
    }
   ],
   "source": [
    "test3.select(f.avg(\"avg_arb\")).show()"
   ]
  },
  {
   "cell_type": "code",
   "execution_count": null,
   "id": "d7da6f35",
   "metadata": {},
   "outputs": [],
   "source": []
  }
 ],
 "metadata": {
  "kernelspec": {
   "display_name": "Python 3 (ipykernel)",
   "language": "python",
   "name": "python3"
  },
  "language_info": {
   "codemirror_mode": {
    "name": "ipython",
    "version": 3
   },
   "file_extension": ".py",
   "mimetype": "text/x-python",
   "name": "python",
   "nbconvert_exporter": "python",
   "pygments_lexer": "ipython3",
   "version": "3.9.9"
  }
 },
 "nbformat": 4,
 "nbformat_minor": 5
}
