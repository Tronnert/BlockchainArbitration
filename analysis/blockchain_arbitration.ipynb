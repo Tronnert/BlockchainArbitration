{
 "cells": [
  {
   "cell_type": "code",
   "execution_count": 1,
   "id": "b9c571d2",
   "metadata": {},
   "outputs": [],
   "source": [
    "from pyspark.sql import SparkSession\n",
    "from pyspark.sql.types import ArrayType, LongType, StructType, StructField, StringType, DoubleType, BooleanType, IntegerType\n",
    "import pyspark.sql.functions as f\n",
    "from pyspark.sql import Window\n",
    "import findspark"
   ]
  },
  {
   "cell_type": "code",
   "execution_count": 10,
   "id": "b50cde02",
   "metadata": {},
   "outputs": [],
   "source": [
    "findspark.init()\n",
    "spark = SparkSession.builder.appName('Crypto').getOrCreate()\n",
    "SCHEMA = StructType([\n",
    "    StructField(\"dt\", LongType(), False),\n",
    "    StructField(\"base\", StringType(), False),\n",
    "    StructField(\"quote\", StringType(), False),\n",
    "    StructField(\"exchange\", StringType(), False),\n",
    "    StructField(\"bidPrice\", DoubleType(), False),\n",
    "    StructField(\"bidQty\", DoubleType(), False),\n",
    "    StructField(\"askPrice\", DoubleType(), False),\n",
    "    StructField(\"askQty\", DoubleType(), False),\n",
    "    \n",
    "])\n",
    "df = spark.read.options(delimiter='\\t', ).csv(\"../logs/test_time3.tsv\", header=False, schema=SCHEMA)"
   ]
  },
  {
   "cell_type": "code",
   "execution_count": 61,
   "id": "9c1512e3",
   "metadata": {},
   "outputs": [],
   "source": [
    "w = Window.partitionBy(['dt', \"base\", \"quote\"])\n",
    "bids = df.withColumn('maxBid', f.max('bidPrice').over(w))\\\n",
    "    .where(f.col('bidPrice') == f.col('maxBid'))\\\n",
    "    .drop('maxBid').withColumnRenamed(\"exchange\", \"bidExchange\") \\\n",
    "    .drop(\"askPrice\").drop(\"askQty\")\n",
    "asks = df.withColumn('minAsk', f.min('askPrice').over(w))\\\n",
    "    .where(f.col('askPrice') == f.col('minAsk'))\\\n",
    "    .drop('minAsk').withColumnRenamed(\"exchange\", \"askExchange\") \\\n",
    "    .drop(\"bidPrice\").drop(\"bidQty\")\n",
    "test = bids.join(asks, on=[\"dt\", \"base\", \"quote\"]) \\\n",
    "    .withColumn(\"Qty\", f.least(\"bidQty\", \"askQty\")) \\\n",
    "    .withColumn(\"revenue\", (f.col(\"bidPrice\") - f.col(\"askPrice\")) * f.col(\"Qty\"))\n",
    "test = test[test[\"revenue\"] > 0]"
   ]
  },
  {
   "cell_type": "code",
   "execution_count": 62,
   "id": "b4a5b9ba",
   "metadata": {},
   "outputs": [],
   "source": [
    "test3 = test.groupBy([\"base\", \"quote\", \"bidExchange\", \"askExchange\"]) \\\n",
    "    .agg(f.collect_list(f.struct(\"dt\", \"bidPrice\", \"askPrice\", \"Qty\")).alias(\"data\"))"
   ]
  },
  {
   "cell_type": "code",
   "execution_count": 63,
   "id": "2945ae4d",
   "metadata": {},
   "outputs": [],
   "source": [
    "def calc_avg(x):\n",
    "    return max(x)\n",
    "    #return sum(x) / len(x)\n",
    "\n",
    "\n",
    "def calc_len(x):\n",
    "    return len(x)\n",
    "\n",
    "\n",
    "def get_values(row):\n",
    "    return row[\"dt\"], row[\"bidPrice\"], row[\"askPrice\"], row[\"Qty\"]\n",
    "\n",
    "\n",
    "def find(rows):\n",
    "    #N = 10**8\n",
    "    N = int(10 ** 8)\n",
    "    #N = 1\n",
    "    if len(rows) == 1:\n",
    "        return [N]\n",
    "    arbitrages = []\n",
    "    rows.sort(key=lambda x: x[\"dt\"])\n",
    "    old_dt = rows[0][\"dt\"]\n",
    "    start = old_dt\n",
    "    for row in rows[1:]:\n",
    "        new_dt = row[\"dt\"]\n",
    "        if new_dt - old_dt > N:\n",
    "            arbitrages.append(old_dt - start + N)\n",
    "            start = new_dt\n",
    "        old_dt = new_dt\n",
    "    arbitrages.append(old_dt - start + N)\n",
    "    return arbitrages\n",
    "\n",
    "\n",
    "func = f.udf(find, ArrayType(LongType()))\n",
    "func2 = f.udf(calc_avg, LongType())\n",
    "func3 = f.udf(calc_len, IntegerType())"
   ]
  },
  {
   "cell_type": "code",
   "execution_count": 64,
   "id": "26f5dfa9",
   "metadata": {},
   "outputs": [],
   "source": [
    "test3 = test3.withColumn(\"arbitrations\", func(\"data\")) \\\n",
    "    .withColumn(\"avg_arb\", func2(\"arbitrations\"))"
   ]
  },
  {
   "cell_type": "code",
   "execution_count": 39,
   "id": "3397b067",
   "metadata": {},
   "outputs": [
    {
     "name": "stdout",
     "output_type": "stream",
     "text": [
      "+----+-----+-----------+-----------+--------------------+--------------------+---------+\n",
      "|base|quote|bidExchange|askExchange|                data|        arbitrations|  avg_arb|\n",
      "+----+-----+-----------+-----------+--------------------+--------------------+---------+\n",
      "|BUSD| USDT|    binance|   poloniex|[{167147654957338...|[100000000, 10000...|200000000|\n",
      "|NEAR| USDT|    binance|   poloniex|[{167147657983808...|[100000000, 10000...|200000000|\n",
      "| CHZ| USDT|      huobi|   poloniex|[{167147655594898...|[100000000, 10000...|200000000|\n",
      "| ADA| USDT|      huobi|    binance|[{167147654977484...|[100000000, 10000...|200000000|\n",
      "|CTSI| USDT|   poloniex|       gate|[{167147655189518...|[100000000, 10000...|200000000|\n",
      "| ETH| USDT|    binance|      huobi|[{167147655119006...|[100000000, 10000...|200000000|\n",
      "|ETHW|  ETH|     kraken|   poloniex|[{167147655058567...|[100000000, 10000...|200000000|\n",
      "|ATOM|  BTC|   poloniex|     kraken|[{167147655088787...|[100000000, 10000...|200000000|\n",
      "| FIL|  BTC|   poloniex|     kraken|[{167147655058567...|[100000000, 10000...|200000000|\n",
      "| AXS| USDT|    binance|      huobi|[{167147655474021...|[100000000, 10000...|200000000|\n",
      "| FIL| USDT|   poloniex|      huobi|[{167147655826373...|[100000000, 10000...|200000000|\n",
      "| BCH| USDT|     kraken|      huobi|[{167147655383401...|[100000000, 10000...|200000000|\n",
      "| FTM| USDT|   poloniex|    binance|[{167147655037923...|[100000000, 10000...|200000000|\n",
      "|BOND| USDT|       gate|    binance|[{167147656139051...|[100000000, 10000...|200000000|\n",
      "| FTT| USDT|   poloniex|      huobi|[{167147655252500...|[100000000, 10000...|200000000|\n",
      "| BTC|  EUR|    binance|     kraken|[{167147655068641...|[100000000, 10000...|200000000|\n",
      "| GMT| USDT|       gate|    binance|[{167147658135205...|[100000000, 10000...|200000000|\n",
      "| DAI| USDT|     kraken|   poloniex|[{167147655078714...|[100000000, 10000...|200000000|\n",
      "| LPT|  BTC|   poloniex|     kraken|[{167147655058567...|[100000000, 10000...|200000000|\n",
      "| ETH|  EUR|    binance|     kraken|[{167147655343109...|[100000000, 10000...|200000000|\n",
      "+----+-----+-----------+-----------+--------------------+--------------------+---------+\n",
      "only showing top 20 rows\n",
      "\n"
     ]
    }
   ],
   "source": [
    "test3.sort(\"avg_arb\", ascending=False).show()"
   ]
  },
  {
   "cell_type": "code",
   "execution_count": 21,
   "id": "b94eec06",
   "metadata": {},
   "outputs": [
    {
     "name": "stdout",
     "output_type": "stream",
     "text": [
      "+------------+\n",
      "|avg(avg_arb)|\n",
      "+------------+\n",
      "|        null|\n",
      "+------------+\n",
      "\n"
     ]
    }
   ],
   "source": [
    "test3.select(f.avg(\"avg_arb\")).show()"
   ]
  },
  {
   "cell_type": "code",
   "execution_count": 11,
   "id": "cbe9a990",
   "metadata": {},
   "outputs": [],
   "source": [
    "dts = sorted(set([i[\"dt\"] for i in df.select(\"dt\").collect()]))"
   ]
  },
  {
   "cell_type": "code",
   "execution_count": 12,
   "id": "63fe7136",
   "metadata": {},
   "outputs": [],
   "source": [
    "dif = [dts[i] - dts[i - 1] for i in range(1, len(dts))]"
   ]
  },
  {
   "cell_type": "code",
   "execution_count": 13,
   "id": "724ba160",
   "metadata": {},
   "outputs": [
    {
     "data": {
      "text/plain": [
       "109529197.43589744"
      ]
     },
     "execution_count": 13,
     "metadata": {},
     "output_type": "execute_result"
    }
   ],
   "source": [
    "sum(dif) / len(dif)"
   ]
  },
  {
   "cell_type": "code",
   "execution_count": 6,
   "id": "17bc3c6b",
   "metadata": {},
   "outputs": [],
   "source": [
    "from statistics import median"
   ]
  },
  {
   "cell_type": "code",
   "execution_count": 14,
   "id": "129b10c3",
   "metadata": {},
   "outputs": [
    {
     "data": {
      "text/plain": [
       "109349300.0"
      ]
     },
     "execution_count": 14,
     "metadata": {},
     "output_type": "execute_result"
    }
   ],
   "source": [
    "median(dif)"
   ]
  },
  {
   "cell_type": "code",
   "execution_count": 89,
   "id": "18df9a2d",
   "metadata": {},
   "outputs": [],
   "source": [
    "with open(\"test3.txt\", 'w') as file:\n",
    "    for i in dif:\n",
    "        file.write(str(i) + '\\n')"
   ]
  },
  {
   "cell_type": "code",
   "execution_count": 15,
   "id": "9ed214c1",
   "metadata": {},
   "outputs": [
    {
     "data": {
      "text/plain": [
       "114865200"
      ]
     },
     "execution_count": 15,
     "metadata": {},
     "output_type": "execute_result"
    }
   ],
   "source": [
    "max(dif)"
   ]
  },
  {
   "cell_type": "code",
   "execution_count": 9,
   "id": "62ff89c5",
   "metadata": {},
   "outputs": [
    {
     "name": "stdout",
     "output_type": "stream",
     "text": [
      "+-------------+-----+-----+--------+---------+---------+--------+---------+\n",
      "|           dt| base|quote|exchange| bidPrice|   bidQty|askPrice|   askQty|\n",
      "+-------------+-----+-----+--------+---------+---------+--------+---------+\n",
      "|1671534179936|  YFL| USDT|poloniex|     7.53| 3.851261|    8.44| 0.964906|\n",
      "|1671531969024|REPV2| USDT|poloniex|     4.85|  0.15659|   5.347|  10.0904|\n",
      "|1671535678904|  BCH|  BTC|poloniex| 0.005974|    25.28|0.006075|    18.56|\n",
      "|1671535678967|  BCH| USDT|poloniex|   100.78| 0.387301|  100.79| 0.402171|\n",
      "|1671535648622|SENSO|  BTC|poloniex| 7.921E-6|     11.0|8.391E-6|     37.0|\n",
      "|1671535677005| ETHW| USDD|poloniex|    2.833|   0.8729|   3.221|     30.0|\n",
      "|1671535677815| ETHW| USDT|poloniex|    2.949| 29.11399|   3.007|  1.43575|\n",
      "|1671535582622| LUNA| USDT|poloniex|    1.287|217.45811|    1.29|    256.0|\n",
      "|1671535576297| LUNC| USDT|poloniex|1.3064E-4|3577128.0| 1.42E-4|  15000.0|\n",
      "|1671535621204|  XEN| USDD|poloniex|  2.13E-6|2184561.0|  2.5E-6|4021675.0|\n",
      "|1671531969024|REPV2| USDT|poloniex|     4.85|  0.15659|   5.347|  10.0904|\n",
      "|1671535678904|  BCH|  BTC|poloniex| 0.005974|    25.28|0.006075|    18.56|\n",
      "|1671535678967|  BCH| USDT|poloniex|   100.78| 0.387301|  100.79| 0.402171|\n",
      "|1671535648622|SENSO|  BTC|poloniex| 7.921E-6|     11.0|8.391E-6|     37.0|\n",
      "|1671535677005| ETHW| USDD|poloniex|    2.833|   0.8729|   3.221|     30.0|\n",
      "|1671535677815| ETHW| USDT|poloniex|    2.949| 29.11399|   3.007|  1.43575|\n",
      "|1671535582622| LUNA| USDT|poloniex|    1.287|217.45811|    1.29|    256.0|\n",
      "|1671535576297| LUNC| USDT|poloniex|1.3064E-4|3577128.0| 1.42E-4|  15000.0|\n",
      "|1671535621204|  XEN| USDD|poloniex|  2.13E-6|2184561.0|  2.5E-6|4021675.0|\n",
      "|1671535670579|  XEN| USDT|poloniex|  2.22E-6|1959910.0| 2.39E-6|4184100.0|\n",
      "|1671535678717|  BTS| USDT|poloniex|  0.00826| 1571.471| 0.00857| 22846.02|\n",
      "|1671535675936|  DCR| USDT|poloniex|     18.7|10.158538|    19.0|    0.093|\n",
      "|1671535657287| ARDR| USDT|poloniex|  0.06352| 2216.424| 0.06958|  347.816|\n",
      "|1671535669344| CITY| USDT|poloniex|    3.897| 12.57377|   4.053|   15.182|\n",
      "|1671535677973|  ZBC| USDD|poloniex|  0.01574|  889.048| 0.01738| 4110.291|\n",
      "|1671535666994|  ZBC| USDT|poloniex|  0.01622|  286.928| 0.01651|  198.522|\n",
      "|1671535677827|  CHZ| USDD|poloniex|  0.11218|  190.842| 0.11496|    45.49|\n",
      "|1671535668471| FOAM| USDT|poloniex|  0.01467|  136.332| 0.01548| 1123.207|\n",
      "|1671535677356|  GMX| USDD|poloniex|    45.38| 0.308365|   49.47| 0.060549|\n",
      "|1671535677003|  GMX| USDT|poloniex|    46.08| 0.102455|   48.38| 0.006136|\n",
      "+-------------+-----+-----+--------+---------+---------+--------+---------+\n",
      "only showing top 30 rows\n",
      "\n"
     ]
    }
   ],
   "source": [
    "df.show(30)"
   ]
  },
  {
   "cell_type": "code",
   "execution_count": null,
   "id": "0966a229",
   "metadata": {},
   "outputs": [],
   "source": []
  }
 ],
 "metadata": {
  "kernelspec": {
   "display_name": "Python 3 (ipykernel)",
   "language": "python",
   "name": "python3"
  },
  "language_info": {
   "codemirror_mode": {
    "name": "ipython",
    "version": 3
   },
   "file_extension": ".py",
   "mimetype": "text/x-python",
   "name": "python",
   "nbconvert_exporter": "python",
   "pygments_lexer": "ipython3",
   "version": "3.9.9"
  }
 },
 "nbformat": 4,
 "nbformat_minor": 5
}
