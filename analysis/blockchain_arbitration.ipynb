{
 "cells": [
  {
   "cell_type": "code",
   "execution_count": 22,
   "id": "b9c571d2",
   "metadata": {},
   "outputs": [],
   "source": [
    "from pyspark.sql import SparkSession\n",
    "from pyspark.sql.types import ArrayType, LongType, StructType, StructField, StringType, DoubleType, BooleanType, IntegerType\n",
    "import pyspark.sql.functions as f\n",
    "from pyspark.sql import Window\n",
    "import findspark"
   ]
  },
  {
   "cell_type": "code",
   "execution_count": 60,
   "id": "b50cde02",
   "metadata": {},
   "outputs": [],
   "source": [
    "findspark.init()\n",
    "spark = SparkSession.builder.appName('Crypto').getOrCreate()\n",
    "SCHEMA = StructType([\n",
    "    StructField(\"dt\", LongType(), False),\n",
    "    StructField(\"base\", StringType(), False),\n",
    "    StructField(\"quote\", StringType(), False),\n",
    "    StructField(\"exchange\", StringType(), False),\n",
    "    StructField(\"bidPrice\", DoubleType(), False),\n",
    "    StructField(\"bidQty\", DoubleType(), False),\n",
    "    StructField(\"askPrice\", DoubleType(), False),\n",
    "    StructField(\"askQty\", DoubleType(), False),\n",
    "    \n",
    "])\n",
    "df = spark.read.options(delimiter='\\t', ).csv(\"../logs/nano2.tsv\", header=False, schema=SCHEMA)"
   ]
  },
  {
   "cell_type": "code",
   "execution_count": 61,
   "id": "9c1512e3",
   "metadata": {},
   "outputs": [],
   "source": [
    "w = Window.partitionBy(['dt', \"base\", \"quote\"])\n",
    "bids = df.withColumn('maxBid', f.max('bidPrice').over(w))\\\n",
    "    .where(f.col('bidPrice') == f.col('maxBid'))\\\n",
    "    .drop('maxBid').withColumnRenamed(\"exchange\", \"bidExchange\") \\\n",
    "    .drop(\"askPrice\").drop(\"askQty\")\n",
    "asks = df.withColumn('minAsk', f.min('askPrice').over(w))\\\n",
    "    .where(f.col('askPrice') == f.col('minAsk'))\\\n",
    "    .drop('minAsk').withColumnRenamed(\"exchange\", \"askExchange\") \\\n",
    "    .drop(\"bidPrice\").drop(\"bidQty\")\n",
    "test = bids.join(asks, on=[\"dt\", \"base\", \"quote\"]) \\\n",
    "    .withColumn(\"Qty\", f.least(\"bidQty\", \"askQty\")) \\\n",
    "    .withColumn(\"revenue\", (f.col(\"bidPrice\") - f.col(\"askPrice\")) * f.col(\"Qty\"))\n",
    "test = test[test[\"revenue\"] > 0]"
   ]
  },
  {
   "cell_type": "code",
   "execution_count": 62,
   "id": "b4a5b9ba",
   "metadata": {},
   "outputs": [],
   "source": [
    "test3 = test.groupBy([\"base\", \"quote\", \"bidExchange\", \"askExchange\"]) \\\n",
    "    .agg(f.collect_list(f.struct(\"dt\", \"bidPrice\", \"askPrice\", \"Qty\")).alias(\"data\"))"
   ]
  },
  {
   "cell_type": "code",
   "execution_count": 63,
   "id": "2945ae4d",
   "metadata": {},
   "outputs": [],
   "source": [
    "def calc_avg(x):\n",
    "    return max(x)\n",
    "    #return sum(x) / len(x)\n",
    "\n",
    "\n",
    "def calc_len(x):\n",
    "    return len(x)\n",
    "\n",
    "\n",
    "def get_values(row):\n",
    "    return row[\"dt\"], row[\"bidPrice\"], row[\"askPrice\"], row[\"Qty\"]\n",
    "\n",
    "\n",
    "def find(rows):\n",
    "    #N = 10**8\n",
    "    N = int(10 ** 8)\n",
    "    #N = 1\n",
    "    if len(rows) == 1:\n",
    "        return [N]\n",
    "    arbitrages = []\n",
    "    rows.sort(key=lambda x: x[\"dt\"])\n",
    "    old_dt = rows[0][\"dt\"]\n",
    "    start = old_dt\n",
    "    for row in rows[1:]:\n",
    "        new_dt = row[\"dt\"]\n",
    "        if new_dt - old_dt > N:\n",
    "            arbitrages.append(old_dt - start + N)\n",
    "            start = new_dt\n",
    "        old_dt = new_dt\n",
    "    arbitrages.append(old_dt - start + N)\n",
    "    return arbitrages\n",
    "\n",
    "\n",
    "func = f.udf(find, ArrayType(LongType()))\n",
    "func2 = f.udf(calc_avg, LongType())\n",
    "func3 = f.udf(calc_len, IntegerType())"
   ]
  },
  {
   "cell_type": "code",
   "execution_count": 64,
   "id": "26f5dfa9",
   "metadata": {},
   "outputs": [],
   "source": [
    "test3 = test3.withColumn(\"arbitrations\", func(\"data\")) \\\n",
    "    .withColumn(\"avg_arb\", func2(\"arbitrations\"))"
   ]
  },
  {
   "cell_type": "code",
   "execution_count": 39,
   "id": "9f471e22",
   "metadata": {},
   "outputs": [
    {
     "name": "stdout",
     "output_type": "stream",
     "text": [
      "+----+-----+-----------+-----------+--------------------+--------------------+---------+\n",
      "|base|quote|bidExchange|askExchange|                data|        arbitrations|  avg_arb|\n",
      "+----+-----+-----------+-----------+--------------------+--------------------+---------+\n",
      "|BUSD| USDT|    binance|   poloniex|[{167147654957338...|[100000000, 10000...|200000000|\n",
      "|NEAR| USDT|    binance|   poloniex|[{167147657983808...|[100000000, 10000...|200000000|\n",
      "| CHZ| USDT|      huobi|   poloniex|[{167147655594898...|[100000000, 10000...|200000000|\n",
      "| ADA| USDT|      huobi|    binance|[{167147654977484...|[100000000, 10000...|200000000|\n",
      "|CTSI| USDT|   poloniex|       gate|[{167147655189518...|[100000000, 10000...|200000000|\n",
      "| ETH| USDT|    binance|      huobi|[{167147655119006...|[100000000, 10000...|200000000|\n",
      "|ETHW|  ETH|     kraken|   poloniex|[{167147655058567...|[100000000, 10000...|200000000|\n",
      "|ATOM|  BTC|   poloniex|     kraken|[{167147655088787...|[100000000, 10000...|200000000|\n",
      "| FIL|  BTC|   poloniex|     kraken|[{167147655058567...|[100000000, 10000...|200000000|\n",
      "| AXS| USDT|    binance|      huobi|[{167147655474021...|[100000000, 10000...|200000000|\n",
      "| FIL| USDT|   poloniex|      huobi|[{167147655826373...|[100000000, 10000...|200000000|\n",
      "| BCH| USDT|     kraken|      huobi|[{167147655383401...|[100000000, 10000...|200000000|\n",
      "| FTM| USDT|   poloniex|    binance|[{167147655037923...|[100000000, 10000...|200000000|\n",
      "|BOND| USDT|       gate|    binance|[{167147656139051...|[100000000, 10000...|200000000|\n",
      "| FTT| USDT|   poloniex|      huobi|[{167147655252500...|[100000000, 10000...|200000000|\n",
      "| BTC|  EUR|    binance|     kraken|[{167147655068641...|[100000000, 10000...|200000000|\n",
      "| GMT| USDT|       gate|    binance|[{167147658135205...|[100000000, 10000...|200000000|\n",
      "| DAI| USDT|     kraken|   poloniex|[{167147655078714...|[100000000, 10000...|200000000|\n",
      "| LPT|  BTC|   poloniex|     kraken|[{167147655058567...|[100000000, 10000...|200000000|\n",
      "| ETH|  EUR|    binance|     kraken|[{167147655343109...|[100000000, 10000...|200000000|\n",
      "+----+-----+-----------+-----------+--------------------+--------------------+---------+\n",
      "only showing top 20 rows\n",
      "\n"
     ]
    }
   ],
   "source": [
    "test3.sort(\"avg_arb\", ascending=False).show()"
   ]
  },
  {
   "cell_type": "code",
   "execution_count": 21,
   "id": "933587c0",
   "metadata": {},
   "outputs": [
    {
     "name": "stdout",
     "output_type": "stream",
     "text": [
      "+------------+\n",
      "|avg(avg_arb)|\n",
      "+------------+\n",
      "|        null|\n",
      "+------------+\n",
      "\n"
     ]
    }
   ],
   "source": [
    "test3.select(f.avg(\"avg_arb\")).show()"
   ]
  },
  {
   "cell_type": "code",
   "execution_count": 65,
   "id": "8c352231",
   "metadata": {},
   "outputs": [],
   "source": [
    "dts = sorted(set([i[\"dt\"] for i in df.select(\"dt\").collect()]))"
   ]
  },
  {
   "cell_type": "code",
   "execution_count": 49,
   "id": "d16f509a",
   "metadata": {},
   "outputs": [
    {
     "data": {
      "text/plain": [
       "1671476548356578100"
      ]
     },
     "execution_count": 49,
     "metadata": {},
     "output_type": "execute_result"
    }
   ],
   "source": [
    "dts[0]"
   ]
  },
  {
   "cell_type": "code",
   "execution_count": 66,
   "id": "936093ae",
   "metadata": {},
   "outputs": [],
   "source": [
    "dif = [dts[i] - dts[i - 1] for i in range(1, len(dts))]"
   ]
  },
  {
   "cell_type": "code",
   "execution_count": 67,
   "id": "fe9fcea1",
   "metadata": {},
   "outputs": [
    {
     "data": {
      "text/plain": [
       "100730800"
      ]
     },
     "execution_count": 67,
     "metadata": {},
     "output_type": "execute_result"
    }
   ],
   "source": [
    "dif[0]"
   ]
  },
  {
   "cell_type": "code",
   "execution_count": 68,
   "id": "6d93dbcf",
   "metadata": {},
   "outputs": [
    {
     "data": {
      "text/plain": [
       "101625069.12521441"
      ]
     },
     "execution_count": 68,
     "metadata": {},
     "output_type": "execute_result"
    }
   ],
   "source": [
    "sum(dif) / len(dif)"
   ]
  },
  {
   "cell_type": "code",
   "execution_count": 69,
   "id": "c02c6f58",
   "metadata": {},
   "outputs": [
    {
     "data": {
      "text/plain": [
       "583"
      ]
     },
     "execution_count": 69,
     "metadata": {},
     "output_type": "execute_result"
    }
   ],
   "source": [
    "len(dif)"
   ]
  },
  {
   "cell_type": "code",
   "execution_count": 70,
   "id": "8864e0d1",
   "metadata": {},
   "outputs": [],
   "source": [
    "from statistics import median"
   ]
  },
  {
   "cell_type": "code",
   "execution_count": 71,
   "id": "3c242e71",
   "metadata": {},
   "outputs": [
    {
     "data": {
      "text/plain": [
       "100730800"
      ]
     },
     "execution_count": 71,
     "metadata": {},
     "output_type": "execute_result"
    }
   ],
   "source": [
    "median(dif)"
   ]
  },
  {
   "cell_type": "code",
   "execution_count": 72,
   "id": "b8f7e5a0",
   "metadata": {},
   "outputs": [],
   "source": [
    "with open(\"test.txt\", 'w') as file:\n",
    "    for i in dif:\n",
    "        file.write(str(i) + '\\n')"
   ]
  },
  {
   "cell_type": "code",
   "execution_count": 73,
   "id": "9e91d035",
   "metadata": {},
   "outputs": [
    {
     "data": {
      "text/plain": [
       "329120400"
      ]
     },
     "execution_count": 73,
     "metadata": {},
     "output_type": "execute_result"
    }
   ],
   "source": [
    "max(dif)"
   ]
  },
  {
   "cell_type": "code",
   "execution_count": null,
   "id": "4f438666",
   "metadata": {},
   "outputs": [],
   "source": []
  }
 ],
 "metadata": {
  "kernelspec": {
   "display_name": "Python 3 (ipykernel)",
   "language": "python",
   "name": "python3"
  },
  "language_info": {
   "codemirror_mode": {
    "name": "ipython",
    "version": 3
   },
   "file_extension": ".py",
   "mimetype": "text/x-python",
   "name": "python",
   "nbconvert_exporter": "python",
   "pygments_lexer": "ipython3",
   "version": "3.9.9"
  }
 },
 "nbformat": 4,
 "nbformat_minor": 5
}
