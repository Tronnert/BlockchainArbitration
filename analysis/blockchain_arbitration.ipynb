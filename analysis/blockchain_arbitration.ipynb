{
 "cells": [
  {
   "cell_type": "code",
   "execution_count": 1,
   "id": "b9c571d2",
   "metadata": {},
   "outputs": [],
   "source": [
    "from pyspark.sql import SparkSession\n",
    "from pyspark.sql.types import ArrayType, LongType, StructType, StructField, StringType, DoubleType\n",
    "import pyspark.sql.functions as f\n",
    "from pyspark.sql import Window\n",
    "import findspark"
   ]
  },
  {
   "cell_type": "code",
   "execution_count": 2,
   "id": "b50cde02",
   "metadata": {},
   "outputs": [],
   "source": [
    "findspark.init()\n",
    "spark = SparkSession.builder.appName('Crypto').getOrCreate()\n",
    "SCHEMA = StructType([\n",
    "    StructField(\"dt\", LongType(), False),\n",
    "    StructField(\"base\", StringType(), False),\n",
    "    StructField(\"quote\", StringType(), False),\n",
    "    StructField(\"exchange\", StringType(), False),\n",
    "    StructField(\"bidPrice\", DoubleType(), False),\n",
    "    StructField(\"bidQty\", DoubleType(), False),\n",
    "    StructField(\"askPrice\", DoubleType(), False),\n",
    "    StructField(\"askQty\", DoubleType(), False),\n",
    "    \n",
    "])\n",
    "df = spark.read.options(delimiter='\\t', ).csv(\"../logs/logs3.tsv\", header=False, schema=SCHEMA)"
   ]
  },
  {
   "cell_type": "code",
   "execution_count": 3,
   "id": "9c1512e3",
   "metadata": {},
   "outputs": [],
   "source": [
    "w = Window.partitionBy(['dt', \"base\", \"quote\"])\n",
    "bids = df.withColumn('maxBid', f.max('bidPrice').over(w))\\\n",
    "    .where(f.col('bidPrice') == f.col('maxBid'))\\\n",
    "    .drop('maxBid').withColumnRenamed(\"exchange\", \"bidExchange\") \\\n",
    "    .drop(\"askPrice\").drop(\"askQty\")\n",
    "asks = df.withColumn('minAsk', f.min('askPrice').over(w))\\\n",
    "    .where(f.col('askPrice') == f.col('minAsk'))\\\n",
    "    .drop('minAsk').withColumnRenamed(\"exchange\", \"askExchange\") \\\n",
    "    .drop(\"bidPrice\").drop(\"bidQty\")\n",
    "test = bids.join(asks, on=[\"dt\", \"base\", \"quote\"]) \\\n",
    "    .withColumn(\"Qty\", f.least(\"bidQty\", \"askQty\")) \\\n",
    "    .withColumn(\"revenue\", (f.col(\"bidPrice\") - f.col(\"askPrice\")) * f.col(\"Qty\"))\n",
    "test = test[test[\"revenue\"] > 0]"
   ]
  },
  {
   "cell_type": "code",
   "execution_count": 4,
   "id": "b4a5b9ba",
   "metadata": {},
   "outputs": [],
   "source": [
    "test3 = test.groupBy([\"base\", \"quote\", \"bidExchange\", \"askExchange\"]) \\\n",
    "    .agg(f.collect_list(f.struct(\"dt\", \"bidPrice\", \"askPrice\", \"Qty\")).alias(\"data\"))"
   ]
  },
  {
   "cell_type": "code",
   "execution_count": 14,
   "id": "2945ae4d",
   "metadata": {},
   "outputs": [],
   "source": [
    "def get_values(row):\n",
    "    return row[\"dt\"], row[\"bidPrice\"], row[\"askPrice\"], row[\"Qty\"]\n",
    "\n",
    "\n",
    "def find(rows):\n",
    "    if len(rows) == 1:\n",
    "        return [10**8]\n",
    "    arbitrages = []\n",
    "    rows.sort(key=lambda x: x[\"dt\"])\n",
    "    old_dt = rows[0][\"dt\"]\n",
    "    start = old_dt\n",
    "    for row in rows[1:]:\n",
    "        new_dt, bid, ask, qty = get_values(row)\n",
    "        if new_dt - old_dt > 10**8:\n",
    "            arbitrages.append(old_dt - start)\n",
    "            start = new_dt\n",
    "        old_dt = new_dt\n",
    "    #if rows[-1][\"dt\"] - rows[-2][\"dt\"] > 10**8:\n",
    "    #    arbitrages.append(10**8)\n",
    "    return arbitrages\n",
    "\n",
    "func = f.udf(find, ArrayType(LongType()))"
   ]
  },
  {
   "cell_type": "code",
   "execution_count": 10,
   "id": "b5c2440e",
   "metadata": {},
   "outputs": [],
   "source": [
    "def calc(rows):\n",
    "    if len(rows) == 1:\n",
    "        return 0\n",
    "    old = rows[0][\"dt\"]\n",
    "    c = 0\n",
    "    for row in rows[1:]:\n",
    "        new = row[\"dt\"]\n",
    "        if new - old <= 10**8:\n",
    "            c += 1\n",
    "        old = new\n",
    "    return c\n",
    "\n",
    "\n",
    "func3 = f.udf(calc, LongType())"
   ]
  },
  {
   "cell_type": "code",
   "execution_count": 11,
   "id": "3984f2a1",
   "metadata": {},
   "outputs": [],
   "source": [
    "test3 = test3.withColumn(\"calc\", func3(\"data\"))"
   ]
  },
  {
   "cell_type": "code",
   "execution_count": 12,
   "id": "cee6fb3f",
   "metadata": {},
   "outputs": [
    {
     "name": "stdout",
     "output_type": "stream",
     "text": [
      "+---------+\n",
      "|sum(calc)|\n",
      "+---------+\n",
      "|      720|\n",
      "+---------+\n",
      "\n"
     ]
    }
   ],
   "source": [
    "test3.select(f.sum(\"calc\")).show()"
   ]
  },
  {
   "cell_type": "code",
   "execution_count": null,
   "id": "adc51d43",
   "metadata": {},
   "outputs": [],
   "source": []
  },
  {
   "cell_type": "code",
   "execution_count": 15,
   "id": "26f5dfa9",
   "metadata": {},
   "outputs": [],
   "source": [
    "test3 = test3.withColumn(\"arbitrations\", func(\"data\"))"
   ]
  },
  {
   "cell_type": "code",
   "execution_count": 16,
   "id": "eb49e9b2",
   "metadata": {},
   "outputs": [],
   "source": [
    "def calc_avg(x):\n",
    "    return sum(x) / len(x)\n",
    "    \n",
    "\n",
    "func2 = f.udf(calc_avg, DoubleType())\n",
    "test3 = test3.withColumn(\"avg_arb\", func2(\"arbitrations\"))"
   ]
  },
  {
   "cell_type": "code",
   "execution_count": 8,
   "id": "a304c86c",
   "metadata": {},
   "outputs": [
    {
     "data": {
      "text/plain": [
       "34"
      ]
     },
     "execution_count": 8,
     "metadata": {},
     "output_type": "execute_result"
    }
   ],
   "source": [
    "test3[test3[\"avg_arb\"] > 10**8].count()"
   ]
  },
  {
   "cell_type": "code",
   "execution_count": null,
   "id": "6ddbd44c",
   "metadata": {},
   "outputs": [],
   "source": [
    "test.sort(\"avg_arb\", ascending=False).show()"
   ]
  },
  {
   "cell_type": "code",
   "execution_count": 17,
   "id": "dc27d92e",
   "metadata": {},
   "outputs": [],
   "source": [
    "a = test3.take(1)"
   ]
  },
  {
   "cell_type": "code",
   "execution_count": 18,
   "id": "f11c7689",
   "metadata": {},
   "outputs": [
    {
     "data": {
      "text/plain": [
       "[Row(base='VEMP', quote='USDT', bidExchange='gate', askExchange='huobi', data=[Row(dt=1671433025246882100, bidPrice=0.01801, askPrice=0.01793, Qty=1046.745), Row(dt=1671433026000375600, bidPrice=0.01801, askPrice=0.01793, Qty=1046.745), Row(dt=1671433026100835800, bidPrice=0.01801, askPrice=0.01793, Qty=1046.745), Row(dt=1671433026302201200, bidPrice=0.01801, askPrice=0.01793, Qty=1046.745), Row(dt=1671433026402596900, bidPrice=0.01801, askPrice=0.01793, Qty=1046.745), Row(dt=1671433026503119200, bidPrice=0.01801, askPrice=0.01793, Qty=1046.745), Row(dt=1671433027005694700, bidPrice=0.01801, askPrice=0.01793, Qty=1046.745), Row(dt=1671433027307166800, bidPrice=0.01801, askPrice=0.01793, Qty=1046.745), Row(dt=1671433027708813800, bidPrice=0.01801, askPrice=0.01793, Qty=1046.745), Row(dt=1671433027809801700, bidPrice=0.01801, askPrice=0.01793, Qty=1046.745), Row(dt=1671433028010612700, bidPrice=0.01801, askPrice=0.01793, Qty=1046.745), Row(dt=1671433028311974700, bidPrice=0.01801, askPrice=0.01793, Qty=1046.745), Row(dt=1671433028412328900, bidPrice=0.01801, askPrice=0.01793, Qty=1046.745), Row(dt=1671433028613716200, bidPrice=0.01801, askPrice=0.01793, Qty=1046.745), Row(dt=1671433025900075200, bidPrice=0.01801, askPrice=0.01793, Qty=1046.745), Row(dt=1671433026201752900, bidPrice=0.01801, askPrice=0.01793, Qty=1046.745), Row(dt=1671433026603312300, bidPrice=0.01801, askPrice=0.01793, Qty=1046.745), Row(dt=1671433026703650300, bidPrice=0.01801, askPrice=0.01793, Qty=1046.745), Row(dt=1671433026804313100, bidPrice=0.01801, askPrice=0.01793, Qty=1046.745), Row(dt=1671433026904945100, bidPrice=0.01801, askPrice=0.01793, Qty=1046.745), Row(dt=1671433027105867400, bidPrice=0.01801, askPrice=0.01793, Qty=1046.745), Row(dt=1671433027206785600, bidPrice=0.01801, askPrice=0.01793, Qty=1046.745), Row(dt=1671433027407415700, bidPrice=0.01801, askPrice=0.01793, Qty=1046.745), Row(dt=1671433027507988600, bidPrice=0.01801, askPrice=0.01793, Qty=1046.745), Row(dt=1671433027608808100, bidPrice=0.01801, askPrice=0.01793, Qty=1046.745), Row(dt=1671433027910162100, bidPrice=0.01801, askPrice=0.01793, Qty=1046.745), Row(dt=1671433028111559700, bidPrice=0.01801, askPrice=0.01793, Qty=1046.745), Row(dt=1671433028211630000, bidPrice=0.01801, askPrice=0.01793, Qty=1046.745), Row(dt=1671433028512935700, bidPrice=0.01801, askPrice=0.01793, Qty=1046.745)], arbitrations=[100000000, 100000000, 100000000, 100000000, 100000000, 100000000, 100000000, 100000000, 100000000, 100000000, 100000000, 100000000, 100000000, 100000000, 100000000, 100000000, 100000000, 100000000, 100000000, 100000000, 100000000, 100000000, 100000000, 100000000, 100000000, 100000000, 100000000, 100000000, 100000000], avg_arb=100000000.0)]"
      ]
     },
     "execution_count": 18,
     "metadata": {},
     "output_type": "execute_result"
    }
   ],
   "source": [
    "a"
   ]
  },
  {
   "cell_type": "code",
   "execution_count": null,
   "id": "0511c926",
   "metadata": {},
   "outputs": [],
   "source": []
  }
 ],
 "metadata": {
  "kernelspec": {
   "display_name": "Python 3 (ipykernel)",
   "language": "python",
   "name": "python3"
  },
  "language_info": {
   "codemirror_mode": {
    "name": "ipython",
    "version": 3
   },
   "file_extension": ".py",
   "mimetype": "text/x-python",
   "name": "python",
   "nbconvert_exporter": "python",
   "pygments_lexer": "ipython3",
   "version": "3.9.9"
  }
 },
 "nbformat": 4,
 "nbformat_minor": 5
}
