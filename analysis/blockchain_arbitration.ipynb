{
 "cells": [
  {
   "cell_type": "code",
   "execution_count": 1,
   "id": "f49d806b",
   "metadata": {},
   "outputs": [],
   "source": [
    "import findspark\n",
    "findspark.init()"
   ]
  },
  {
   "cell_type": "code",
   "execution_count": 2,
   "id": "e6bc79a4",
   "metadata": {},
   "outputs": [],
   "source": [
    "from pyspark import SparkConf, SparkContext\n",
    "from pyspark.sql import SparkSession, Window\n",
    "from pyspark.sql import functions as f\n",
    "from pyspark.sql.types import StructType, IntegerType, LongType, StringType, FloatType, DoubleType\n",
    "from datetime import datetime\n",
    "import json"
   ]
  },
  {
   "cell_type": "code",
   "execution_count": 3,
   "id": "6fe05d19",
   "metadata": {},
   "outputs": [
    {
     "name": "stderr",
     "output_type": "stream",
     "text": [
      "Setting default log level to \"WARN\".\n",
      "To adjust logging level use sc.setLogLevel(newLevel). For SparkR, use setLogLevel(newLevel).\n"
     ]
    },
    {
     "name": "stdout",
     "output_type": "stream",
     "text": [
      "22/12/18 19:53:22 WARN NativeCodeLoader: Unable to load native-hadoop library for your platform... using builtin-java classes where applicable\n"
     ]
    }
   ],
   "source": [
    "spark = SparkSession.builder.appName(\"test\").getOrCreate()\n"
   ]
  },
  {
   "cell_type": "code",
   "execution_count": 4,
   "id": "b9c571d2",
   "metadata": {},
   "outputs": [],
   "source": [
    "logs_schema = StructType() \\\n",
    "    .add(\"dt\", LongType(), True) \\\n",
    "    .add(\"base\", StringType(), True) \\\n",
    "    .add(\"quote\", StringType(), True) \\\n",
    "    .add(\"exchange\", StringType(), True) \\\n",
    "    .add(\"bidPrice\", DoubleType(), True)\\\n",
    "    .add(\"bidQty\", DoubleType(), True)\\\n",
    "    .add(\"askPrice\", DoubleType(), True)\\\n",
    "    .add(\"askQty\", DoubleType(), True)\\\n",
    "\n",
    "df = spark.read.format(\"csv\").option(\"sep\", \"\\t\").schema(logs_schema).load(\"../logs2.tsv\")"
   ]
  },
  {
   "cell_type": "code",
   "execution_count": 12,
   "id": "80d63fda",
   "metadata": {},
   "outputs": [
    {
     "name": "stdout",
     "output_type": "stream",
     "text": [
      "+-------------------+------+-----+--------+---------+-----------+---------+---------+\n",
      "|                 dt|  base|quote|exchange| bidPrice|     bidQty| askPrice|   askQty|\n",
      "+-------------------+------+-----+--------+---------+-----------+---------+---------+\n",
      "|1671371812147545300|  ETHW|  ETH|poloniex|  0.00254|      6.935|  0.00257|    79.83|\n",
      "|1671371812244287200|  ETHW|  ETH|poloniex|  0.00254|      6.935|  0.00257|    79.83|\n",
      "|1671371812244287200|  ETHW| USDD|poloniex|     3.03|       30.0|    3.162|     30.0|\n",
      "|1671371812244287200|  ETHW| USDT|poloniex|    3.006|       30.0|    3.038|143.32018|\n",
      "|1671371812244287200|  LUNC| USDT|poloniex|1.3893E-4|  2705996.0|1.4916E-4|2317449.0|\n",
      "|1671371812244287200|SANTOS| USDT|poloniex|   5.1317|   113.8612|   5.3903|   0.5108|\n",
      "|1671371812244287200|SANTOS| USDD|poloniex|    5.106|     0.2434|   5.4143|   0.3779|\n",
      "|1671371812244287200|   XEN| USDD|poloniex|  2.84E-6|1.0959756E7|  3.11E-6| 967137.0|\n",
      "|1671371812244287200|   XEN| USDT|poloniex|  2.63E-6|  6143781.0|  2.98E-6|3355704.0|\n",
      "|1671371812244287200|   BTS| USDT|poloniex|   0.0083|  20136.717|  0.00906|  349.447|\n",
      "|1671371812244287200|   DCR| USDT|poloniex|    19.18|   0.256374|    19.57| 9.716862|\n",
      "|1671371812244287200|   GMX| USDD|poloniex|    45.37|   1.080008|    49.85| 0.175005|\n",
      "|1671371812244287200|   GMX| USDT|poloniex|    46.19|     1.0E-6|    48.38| 0.006136|\n",
      "|1671371812244287200|  NEAR| USDD|poloniex|    1.378|    2.04138|    1.439| 18.78686|\n",
      "|1671371812244287200|  NEAR| USDT|poloniex|    1.364|   25.96676|    1.368|     98.0|\n",
      "|1671371812244287200|   ACM| USDD|poloniex|   2.3013|     0.5391|   2.4439|  10.2702|\n",
      "|1671371812244287200|   HFT| USDD|poloniex|   0.3601|    33.3283|   0.3889|  21.4991|\n",
      "|1671371812244287200|   HFT| USDT|poloniex|   0.3488|     3.3541|   0.3698|  32.6157|\n",
      "|1671371812244287200|    OP| USDD|poloniex|   0.9001|    54.4383|    0.974|   1.2814|\n",
      "|1671371812244287200|    OP| USDT|poloniex|   0.9255|   280.3551|   0.9412| 276.8995|\n",
      "+-------------------+------+-----+--------+---------+-----------+---------+---------+\n",
      "only showing top 20 rows\n",
      "\n"
     ]
    }
   ],
   "source": [
    "df.show()"
   ]
  },
  {
   "cell_type": "code",
   "execution_count": 5,
   "id": "96cd0a34",
   "metadata": {},
   "outputs": [
    {
     "name": "stderr",
     "output_type": "stream",
     "text": [
      "[Stage 1:===========>                                               (1 + 2) / 5]\r"
     ]
    }
   ],
   "source": [
    "w = Window.partitionBy(['dt', \"base\", \"quote\"])\n",
    "bids = df.withColumn('maxBid', f.max('bidPrice').over(w))\\\n",
    "    .where(f.col('bidPrice') == f.col('maxBid'))\\\n",
    "    .drop('maxBid').drop(\"askPrice\").drop(\"askQty\")\n",
    "asks = df.withColumn('minAsk', f.min('askPrice').over(w))\\\n",
    "    .where(f.col('askPrice') == f.col('minAsk'))\\\n",
    "    .drop('minAsk').drop(\"bidPrice\").drop(\"bidQty\")\\\n",
    "    .withColumnRenamed(\"exchange\",\"exchange_ask\")\n",
    "arb = bids.join(asks, on=[\"dt\", \"base\", \"quote\"])\\\n",
    "    .withColumn(\"Qty\", f.least(\"bidQty\", \"askQty\"))\\\n",
    "    .withColumn(\"revenue\", (f.col(\"bidPrice\") - f.col(\"askPrice\")) * f.col(\"Qty\"))\n",
    "arb = arb[arb[\"revenue\"] > 0]\n",
    "arb.show()  \n"
   ]
  }
 ],
 "metadata": {
  "kernelspec": {
   "display_name": "Python 3.10.8 64-bit",
   "language": "python",
   "name": "python3"
  },
  "language_info": {
   "codemirror_mode": {
    "name": "ipython",
    "version": 3
   },
   "file_extension": ".py",
   "mimetype": "text/x-python",
   "name": "python",
   "nbconvert_exporter": "python",
   "pygments_lexer": "ipython3",
   "version": "3.10.8"
  },
  "vscode": {
   "interpreter": {
    "hash": "e7370f93d1d0cde622a1f8e1c04877d8463912d04d973331ad4851f04de6915a"
   }
  }
 },
 "nbformat": 4,
 "nbformat_minor": 5
}
